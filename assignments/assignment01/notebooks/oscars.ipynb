{
 "cells": [
  {
   "cell_type": "code",
   "execution_count": 1,
   "metadata": {
    "collapsed": false
   },
   "outputs": [
    {
     "name": "stdout",
     "output_type": "stream",
     "text": [
      "best_actor.txt              box_office_max_min.txt      runtime_max_min.txt\r\n",
      "best_actress.txt            director.txt                \u001b[36mtranscripts\u001b[m\u001b[m\r\n",
      "best_supporting_actor.txt   film.txt                    \u001b[36mwiki\u001b[m\u001b[m\r\n",
      "best_supporting_actress.txt golden_globe_winners.txt\r\n",
      "box_office.txt              runtime.txt\r\n"
     ]
    }
   ],
   "source": [
    "!ls ../data/"
   ]
  },
  {
   "cell_type": "code",
   "execution_count": 3,
   "metadata": {
    "collapsed": false
   },
   "outputs": [],
   "source": [
    "import os\n",
    "import re\n",
    "import sys\n",
    "import glob\n",
    "\n",
    "import bs4\n",
    "import pandas as pd\n",
    "\n",
    "sys.path.append('../code')\n",
    "from utils import *\n",
    "\n",
    "pd.set_option('display.max_columns', 100)"
   ]
  },
  {
   "cell_type": "markdown",
   "metadata": {},
   "source": [
    "# Load Data"
   ]
  },
  {
   "cell_type": "markdown",
   "metadata": {},
   "source": [
    "## Labels"
   ]
  },
  {
   "cell_type": "markdown",
   "metadata": {},
   "source": [
    "### Actors"
   ]
  },
  {
   "cell_type": "code",
   "execution_count": 4,
   "metadata": {
    "collapsed": true
   },
   "outputs": [],
   "source": [
    "actor_cols = ['year', 'winner', 'wiki_slug_person',\n",
    "              'name_actor', 'wiki_slug_film', 'name_film']"
   ]
  },
  {
   "cell_type": "code",
   "execution_count": 5,
   "metadata": {
    "collapsed": false
   },
   "outputs": [],
   "source": [
    "nominees_actor = load_labels('../data/best_actor.txt',\n",
    "                             actor_cols,\n",
    "                             'actor')"
   ]
  },
  {
   "cell_type": "code",
   "execution_count": 6,
   "metadata": {
    "collapsed": true
   },
   "outputs": [],
   "source": [
    "nominees_actress = load_labels('../data/best_actress.txt',\n",
    "                               actor_cols,\n",
    "                               'actress')"
   ]
  },
  {
   "cell_type": "code",
   "execution_count": 7,
   "metadata": {
    "collapsed": true
   },
   "outputs": [],
   "source": [
    "nominees_supporting_actor = load_labels('../data/best_supporting_actor.txt',\n",
    "                                        actor_cols,\n",
    "                                        'supporting actor')"
   ]
  },
  {
   "cell_type": "code",
   "execution_count": 8,
   "metadata": {
    "collapsed": false
   },
   "outputs": [],
   "source": [
    "nominees_supporting_actress = load_labels('../data/best_supporting_actress.txt',\n",
    "                                          actor_cols,\n",
    "                                          'supporting actress')"
   ]
  },
  {
   "cell_type": "markdown",
   "metadata": {},
   "source": [
    "### Film"
   ]
  },
  {
   "cell_type": "code",
   "execution_count": 9,
   "metadata": {
    "collapsed": true
   },
   "outputs": [],
   "source": [
    "film_cols = ['year', 'winner', 'wiki_slug_film', 'name_film']"
   ]
  },
  {
   "cell_type": "code",
   "execution_count": 10,
   "metadata": {
    "collapsed": true
   },
   "outputs": [],
   "source": [
    "nominees_film = load_labels('../data/film.txt', film_cols, 'film')"
   ]
  },
  {
   "cell_type": "markdown",
   "metadata": {},
   "source": [
    "### Director"
   ]
  },
  {
   "cell_type": "code",
   "execution_count": 11,
   "metadata": {
    "collapsed": true
   },
   "outputs": [],
   "source": [
    "director_cols = ['year', 'winner', 'wiki_slug_person',\n",
    "                 'name_director', 'wiki_slug_film', 'name_film']"
   ]
  },
  {
   "cell_type": "code",
   "execution_count": 12,
   "metadata": {
    "collapsed": true
   },
   "outputs": [],
   "source": [
    "nominees_director = load_labels('../data/director.txt',\n",
    "                                director_cols,\n",
    "                                'director')"
   ]
  },
  {
   "cell_type": "markdown",
   "metadata": {},
   "source": [
    "## Features"
   ]
  },
  {
   "cell_type": "markdown",
   "metadata": {},
   "source": [
    "### Box Office"
   ]
  },
  {
   "cell_type": "code",
   "execution_count": 13,
   "metadata": {
    "collapsed": true
   },
   "outputs": [],
   "source": [
    "box_office_cols = ['boxoffice', 'revenue', 'wiki_slug_film']"
   ]
  },
  {
   "cell_type": "code",
   "execution_count": 14,
   "metadata": {
    "collapsed": false
   },
   "outputs": [],
   "source": [
    "features_box_office = load_features('../data/box_office.txt', box_office_cols)"
   ]
  },
  {
   "cell_type": "code",
   "execution_count": 15,
   "metadata": {
    "collapsed": false
   },
   "outputs": [],
   "source": [
    "features_box_office = features_box_office[['wiki_slug_film', 'revenue']]"
   ]
  },
  {
   "cell_type": "markdown",
   "metadata": {},
   "source": [
    "### Golden Globe Winners"
   ]
  },
  {
   "cell_type": "code",
   "execution_count": 16,
   "metadata": {
    "collapsed": true
   },
   "outputs": [],
   "source": [
    "golden_globe_cols = ['outcome', 'value', 'wiki_slug_film']"
   ]
  },
  {
   "cell_type": "code",
   "execution_count": 17,
   "metadata": {
    "collapsed": true
   },
   "outputs": [],
   "source": [
    "features_golden_globes = load_features('../data/golden_globe_winners.txt',\n",
    "                                       golden_globe_cols)"
   ]
  },
  {
   "cell_type": "code",
   "execution_count": 18,
   "metadata": {
    "collapsed": false
   },
   "outputs": [],
   "source": [
    "features_golden_globes = features_golden_globes[['wiki_slug_film', 'outcome']]"
   ]
  },
  {
   "cell_type": "code",
   "execution_count": 19,
   "metadata": {
    "collapsed": false
   },
   "outputs": [],
   "source": [
    "features_golden_globes['outcome'] = features_golden_globes.outcome.apply(lambda x: x[12:])"
   ]
  },
  {
   "cell_type": "markdown",
   "metadata": {},
   "source": [
    "### Runtime"
   ]
  },
  {
   "cell_type": "code",
   "execution_count": 20,
   "metadata": {
    "collapsed": true
   },
   "outputs": [],
   "source": [
    "runtime_cols = ['runtime', 'minutes', 'wiki_slug_film']"
   ]
  },
  {
   "cell_type": "code",
   "execution_count": 21,
   "metadata": {
    "collapsed": false
   },
   "outputs": [],
   "source": [
    "features_runtime = load_features('../data/runtime.txt', runtime_cols)"
   ]
  },
  {
   "cell_type": "code",
   "execution_count": 22,
   "metadata": {
    "collapsed": true
   },
   "outputs": [],
   "source": [
    "features_runtime = features_runtime[['wiki_slug_film', 'minutes']]"
   ]
  },
  {
   "cell_type": "markdown",
   "metadata": {},
   "source": [
    "## Wiki"
   ]
  },
  {
   "cell_type": "code",
   "execution_count": 23,
   "metadata": {
    "collapsed": true
   },
   "outputs": [],
   "source": [
    "movie_path = '../data/wiki/movies'"
   ]
  },
  {
   "cell_type": "code",
   "execution_count": 24,
   "metadata": {
    "collapsed": false
   },
   "outputs": [],
   "source": [
    "movie_data = pd.DataFrame([])\n",
    "for f in os.listdir(movie_path):\n",
    "    film_id = '/wiki/'+f[:-5]\n",
    "    fname = movie_path+'/'+f\n",
    "    try:\n",
    "        movie_data = movie_data.append(wiki_data(fname, film_id, 'infobox vevent'))\n",
    "    except:\n",
    "        pass"
   ]
  },
  {
   "cell_type": "code",
   "execution_count": 25,
   "metadata": {
    "collapsed": false
   },
   "outputs": [
    {
     "data": {
      "text/plain": [
       "(1263, 21)"
      ]
     },
     "execution_count": 25,
     "metadata": {},
     "output_type": "execute_result"
    }
   ],
   "source": [
    "movie_data.shape"
   ]
  },
  {
   "cell_type": "code",
   "execution_count": 26,
   "metadata": {
    "collapsed": true
   },
   "outputs": [],
   "source": [
    "people_path = '../data/wiki/people'"
   ]
  },
  {
   "cell_type": "code",
   "execution_count": 27,
   "metadata": {
    "collapsed": false
   },
   "outputs": [],
   "source": [
    "people_data = pd.DataFrame([])\n",
    "for f in os.listdir(people_path):\n",
    "    person_id = '/wiki/'+f[:-5]\n",
    "    fname = people_path+'/'+f\n",
    "    try:\n",
    "        people_data = people_data.append(wiki_data(fname, person_id, 'infobox biography vcard'))\n",
    "    except:\n",
    "        pass"
   ]
  },
  {
   "cell_type": "code",
   "execution_count": 28,
   "metadata": {
    "collapsed": false
   },
   "outputs": [
    {
     "data": {
      "text/plain": [
       "(549, 41)"
      ]
     },
     "execution_count": 28,
     "metadata": {},
     "output_type": "execute_result"
    }
   ],
   "source": [
    "people_data.shape"
   ]
  },
  {
   "cell_type": "markdown",
   "metadata": {},
   "source": [
    "# Merging"
   ]
  },
  {
   "cell_type": "code",
   "execution_count": 29,
   "metadata": {
    "collapsed": false
   },
   "outputs": [
    {
     "data": {
      "text/html": [
       "<div>\n",
       "<table border=\"1\" class=\"dataframe\">\n",
       "  <thead>\n",
       "    <tr style=\"text-align: right;\">\n",
       "      <th></th>\n",
       "      <th>wiki_slug_film</th>\n",
       "      <th>revenue</th>\n",
       "    </tr>\n",
       "  </thead>\n",
       "  <tbody>\n",
       "    <tr>\n",
       "      <th>0</th>\n",
       "      <td>/wiki/127_Hours</td>\n",
       "      <td>60700000</td>\n",
       "    </tr>\n",
       "    <tr>\n",
       "      <th>1</th>\n",
       "      <td>/wiki/12_Angry_Men_(1957_film)</td>\n",
       "      <td>1000000</td>\n",
       "    </tr>\n",
       "    <tr>\n",
       "      <th>2</th>\n",
       "      <td>/wiki/12_Monkeys</td>\n",
       "      <td>168800000</td>\n",
       "    </tr>\n",
       "    <tr>\n",
       "      <th>3</th>\n",
       "      <td>/wiki/12_Years_a_Slave_(film)</td>\n",
       "      <td>187700000</td>\n",
       "    </tr>\n",
       "    <tr>\n",
       "      <th>4</th>\n",
       "      <td>/wiki/2001:_A_Space_Odyssey_(film)</td>\n",
       "      <td>190000000</td>\n",
       "    </tr>\n",
       "  </tbody>\n",
       "</table>\n",
       "</div>"
      ],
      "text/plain": [
       "                       wiki_slug_film    revenue\n",
       "0                     /wiki/127_Hours   60700000\n",
       "1      /wiki/12_Angry_Men_(1957_film)    1000000\n",
       "2                    /wiki/12_Monkeys  168800000\n",
       "3       /wiki/12_Years_a_Slave_(film)  187700000\n",
       "4  /wiki/2001:_A_Space_Odyssey_(film)  190000000"
      ]
     },
     "execution_count": 29,
     "metadata": {},
     "output_type": "execute_result"
    }
   ],
   "source": [
    "features_box_office.head()"
   ]
  },
  {
   "cell_type": "code",
   "execution_count": 30,
   "metadata": {
    "collapsed": false
   },
   "outputs": [
    {
     "data": {
      "text/html": [
       "<div>\n",
       "<table border=\"1\" class=\"dataframe\">\n",
       "  <thead>\n",
       "    <tr style=\"text-align: right;\">\n",
       "      <th></th>\n",
       "      <th>wiki_slug_film</th>\n",
       "      <th>minutes</th>\n",
       "    </tr>\n",
       "  </thead>\n",
       "  <tbody>\n",
       "    <tr>\n",
       "      <th>0</th>\n",
       "      <td>/wiki/127_Hours</td>\n",
       "      <td>93</td>\n",
       "    </tr>\n",
       "    <tr>\n",
       "      <th>1</th>\n",
       "      <td>/wiki/12_Angry_Men_(1957_film)</td>\n",
       "      <td>96</td>\n",
       "    </tr>\n",
       "    <tr>\n",
       "      <th>2</th>\n",
       "      <td>/wiki/12_Monkeys</td>\n",
       "      <td>129</td>\n",
       "    </tr>\n",
       "    <tr>\n",
       "      <th>3</th>\n",
       "      <td>/wiki/12_Years_a_Slave_(film)</td>\n",
       "      <td>134</td>\n",
       "    </tr>\n",
       "    <tr>\n",
       "      <th>4</th>\n",
       "      <td>/wiki/2001:_A_Space_Odyssey_(film)</td>\n",
       "      <td>161</td>\n",
       "    </tr>\n",
       "  </tbody>\n",
       "</table>\n",
       "</div>"
      ],
      "text/plain": [
       "                       wiki_slug_film  minutes\n",
       "0                     /wiki/127_Hours       93\n",
       "1      /wiki/12_Angry_Men_(1957_film)       96\n",
       "2                    /wiki/12_Monkeys      129\n",
       "3       /wiki/12_Years_a_Slave_(film)      134\n",
       "4  /wiki/2001:_A_Space_Odyssey_(film)      161"
      ]
     },
     "execution_count": 30,
     "metadata": {},
     "output_type": "execute_result"
    }
   ],
   "source": [
    "features_runtime.head()"
   ]
  },
  {
   "cell_type": "code",
   "execution_count": 31,
   "metadata": {
    "collapsed": false
   },
   "outputs": [],
   "source": [
    "films = pd.merge(features_box_office,\n",
    "                 features_runtime,\n",
    "                 on='wiki_slug_film',\n",
    "                 how='outer')"
   ]
  },
  {
   "cell_type": "code",
   "execution_count": 32,
   "metadata": {
    "collapsed": false
   },
   "outputs": [],
   "source": [
    "films = pd.merge(films, movie_data, on='wiki_slug_film', how='inner')"
   ]
  },
  {
   "cell_type": "code",
   "execution_count": 33,
   "metadata": {
    "collapsed": true
   },
   "outputs": [],
   "source": [
    "films.fillna('', inplace=True)"
   ]
  },
  {
   "cell_type": "code",
   "execution_count": 34,
   "metadata": {
    "collapsed": true
   },
   "outputs": [],
   "source": [
    "text_columns = ['based_on', 'box_office', 'budget', 'cinematography',\n",
    "                'country', 'distributed_by', 'music_by', 'produced_by',\n",
    "                'production_companies', 'production_company', 'release_dates',\n",
    "                'running_time', 'screenplay_by', 'starring', 'written_by']"
   ]
  },
  {
   "cell_type": "code",
   "execution_count": 35,
   "metadata": {
    "collapsed": false
   },
   "outputs": [],
   "source": [
    "for c in text_columns:\n",
    "    films[c] = films[c].str.replace(u'\\xa0', u' ')\n",
    "    films[c] = films[c].apply(lambda x: re.sub('\\[[0-9]\\]', '', x).strip())\n",
    "    films[c] = films[c].str.split('\\n')\n",
    "    films[c] = films[c].apply(lambda x: [a.strip() for a in x])\n",
    "    films[c] = films[c].apply(lambda x: [a for a in filter(None, x)])"
   ]
  },
  {
   "cell_type": "code",
   "execution_count": 36,
   "metadata": {
    "collapsed": false
   },
   "outputs": [],
   "source": [
    "films['n_starring'] = films.starring.apply(lambda x: len(x))\n",
    "films['based_on'] = films.based_on.apply(lambda x: 1 if len(x) > 0 else 0)\n",
    "films['n_countries'] = films.country.apply(lambda x: len(x))\n",
    "re_months = re.compile('(january|february|march|april|may|june|july|august|september|october|november|december)')\n",
    "films['release_month'] = films.release_dates.apply(lambda x: re_months.search(x[0].lower()).group()\n",
    "                                                   if re_months.search(x[0].lower()) is not None\n",
    "                                                   else '')\n",
    "films['revenue'] = films.revenue.apply(lambda x: re.sub('\\D', '', x))"
   ]
  },
  {
   "cell_type": "code",
   "execution_count": 37,
   "metadata": {
    "collapsed": true
   },
   "outputs": [],
   "source": [
    "films = films[['wiki_slug_film', 'revenue', 'minutes', 'based_on', 'n_starring', 'n_countries', 'release_month']]"
   ]
  },
  {
   "cell_type": "code",
   "execution_count": 38,
   "metadata": {
    "collapsed": false
   },
   "outputs": [],
   "source": [
    "films.revenue.replace('', 0, inplace=True)\n",
    "films['revenue'] = films.revenue.astype(int)\n",
    "films.minutes.replace('', 0, inplace=True)\n",
    "films['minutes'] = films.minutes.astype(int)"
   ]
  },
  {
   "cell_type": "code",
   "execution_count": 39,
   "metadata": {
    "collapsed": true
   },
   "outputs": [],
   "source": [
    "def month_to_q(m):\n",
    "    if m in ['january', 'february', 'march']:\n",
    "        return 1\n",
    "    elif m in ['april', 'may', 'june']:\n",
    "        return 2\n",
    "    elif m in ['july', 'august', 'september']:\n",
    "        return 3\n",
    "    elif m in ['october', 'november', 'december']:\n",
    "        return 4\n",
    "    else:\n",
    "        return 0"
   ]
  },
  {
   "cell_type": "code",
   "execution_count": 40,
   "metadata": {
    "collapsed": false
   },
   "outputs": [],
   "source": [
    "films['release_quarter'] = films.release_month.apply(lambda x: month_to_q(x))"
   ]
  },
  {
   "cell_type": "code",
   "execution_count": 41,
   "metadata": {
    "collapsed": false
   },
   "outputs": [],
   "source": [
    "films.drop('release_month', axis=1, inplace=True)"
   ]
  },
  {
   "cell_type": "code",
   "execution_count": 42,
   "metadata": {
    "collapsed": false
   },
   "outputs": [
    {
     "data": {
      "text/html": [
       "<div>\n",
       "<table border=\"1\" class=\"dataframe\">\n",
       "  <thead>\n",
       "    <tr style=\"text-align: right;\">\n",
       "      <th></th>\n",
       "      <th>wiki_slug_film</th>\n",
       "      <th>revenue</th>\n",
       "      <th>minutes</th>\n",
       "      <th>based_on</th>\n",
       "      <th>n_starring</th>\n",
       "      <th>n_countries</th>\n",
       "      <th>release_quarter</th>\n",
       "    </tr>\n",
       "  </thead>\n",
       "  <tbody>\n",
       "    <tr>\n",
       "      <th>0</th>\n",
       "      <td>/wiki/127_Hours</td>\n",
       "      <td>60700000</td>\n",
       "      <td>93</td>\n",
       "      <td>1</td>\n",
       "      <td>3</td>\n",
       "      <td>2</td>\n",
       "      <td>3</td>\n",
       "    </tr>\n",
       "    <tr>\n",
       "      <th>1</th>\n",
       "      <td>/wiki/12_Angry_Men_(1957_film)</td>\n",
       "      <td>1000000</td>\n",
       "      <td>96</td>\n",
       "      <td>0</td>\n",
       "      <td>12</td>\n",
       "      <td>1</td>\n",
       "      <td>2</td>\n",
       "    </tr>\n",
       "    <tr>\n",
       "      <th>2</th>\n",
       "      <td>/wiki/12_Monkeys</td>\n",
       "      <td>168800000</td>\n",
       "      <td>129</td>\n",
       "      <td>1</td>\n",
       "      <td>5</td>\n",
       "      <td>1</td>\n",
       "      <td>4</td>\n",
       "    </tr>\n",
       "    <tr>\n",
       "      <th>3</th>\n",
       "      <td>/wiki/12_Years_a_Slave_(film)</td>\n",
       "      <td>187700000</td>\n",
       "      <td>134</td>\n",
       "      <td>1</td>\n",
       "      <td>9</td>\n",
       "      <td>2</td>\n",
       "      <td>3</td>\n",
       "    </tr>\n",
       "    <tr>\n",
       "      <th>4</th>\n",
       "      <td>/wiki/2001:_A_Space_Odyssey_(film)</td>\n",
       "      <td>190000000</td>\n",
       "      <td>161</td>\n",
       "      <td>0</td>\n",
       "      <td>2</td>\n",
       "      <td>2</td>\n",
       "      <td>2</td>\n",
       "    </tr>\n",
       "  </tbody>\n",
       "</table>\n",
       "</div>"
      ],
      "text/plain": [
       "                       wiki_slug_film    revenue  minutes  based_on  \\\n",
       "0                     /wiki/127_Hours   60700000       93         1   \n",
       "1      /wiki/12_Angry_Men_(1957_film)    1000000       96         0   \n",
       "2                    /wiki/12_Monkeys  168800000      129         1   \n",
       "3       /wiki/12_Years_a_Slave_(film)  187700000      134         1   \n",
       "4  /wiki/2001:_A_Space_Odyssey_(film)  190000000      161         0   \n",
       "\n",
       "   n_starring  n_countries  release_quarter  \n",
       "0           3            2                3  \n",
       "1          12            1                2  \n",
       "2           5            1                4  \n",
       "3           9            2                3  \n",
       "4           2            2                2  "
      ]
     },
     "execution_count": 42,
     "metadata": {},
     "output_type": "execute_result"
    }
   ],
   "source": [
    "films.head()"
   ]
  },
  {
   "cell_type": "code",
   "execution_count": 43,
   "metadata": {
    "collapsed": false
   },
   "outputs": [
    {
     "data": {
      "text/html": [
       "<div>\n",
       "<table border=\"1\" class=\"dataframe\">\n",
       "  <thead>\n",
       "    <tr style=\"text-align: right;\">\n",
       "      <th></th>\n",
       "      <th>wiki_slug_film</th>\n",
       "      <th>revenue</th>\n",
       "      <th>minutes</th>\n",
       "      <th>based_on</th>\n",
       "      <th>n_starring</th>\n",
       "      <th>n_countries</th>\n",
       "      <th>release_quarter</th>\n",
       "      <th>year</th>\n",
       "      <th>winner</th>\n",
       "    </tr>\n",
       "  </thead>\n",
       "  <tbody>\n",
       "    <tr>\n",
       "      <th>0</th>\n",
       "      <td>/wiki/127_Hours</td>\n",
       "      <td>60700000</td>\n",
       "      <td>93</td>\n",
       "      <td>1</td>\n",
       "      <td>3</td>\n",
       "      <td>2</td>\n",
       "      <td>3</td>\n",
       "      <td>2010</td>\n",
       "      <td>0</td>\n",
       "    </tr>\n",
       "    <tr>\n",
       "      <th>1</th>\n",
       "      <td>/wiki/12_Angry_Men_(1957_film)</td>\n",
       "      <td>1000000</td>\n",
       "      <td>96</td>\n",
       "      <td>0</td>\n",
       "      <td>12</td>\n",
       "      <td>1</td>\n",
       "      <td>2</td>\n",
       "      <td>1957</td>\n",
       "      <td>0</td>\n",
       "    </tr>\n",
       "    <tr>\n",
       "      <th>2</th>\n",
       "      <td>/wiki/12_Monkeys</td>\n",
       "      <td>168800000</td>\n",
       "      <td>129</td>\n",
       "      <td>1</td>\n",
       "      <td>5</td>\n",
       "      <td>1</td>\n",
       "      <td>4</td>\n",
       "      <td>NaN</td>\n",
       "      <td>NaN</td>\n",
       "    </tr>\n",
       "    <tr>\n",
       "      <th>3</th>\n",
       "      <td>/wiki/12_Years_a_Slave_(film)</td>\n",
       "      <td>187700000</td>\n",
       "      <td>134</td>\n",
       "      <td>1</td>\n",
       "      <td>9</td>\n",
       "      <td>2</td>\n",
       "      <td>3</td>\n",
       "      <td>2013</td>\n",
       "      <td>1</td>\n",
       "    </tr>\n",
       "    <tr>\n",
       "      <th>4</th>\n",
       "      <td>/wiki/2001:_A_Space_Odyssey_(film)</td>\n",
       "      <td>190000000</td>\n",
       "      <td>161</td>\n",
       "      <td>0</td>\n",
       "      <td>2</td>\n",
       "      <td>2</td>\n",
       "      <td>2</td>\n",
       "      <td>NaN</td>\n",
       "      <td>NaN</td>\n",
       "    </tr>\n",
       "    <tr>\n",
       "      <th>5</th>\n",
       "      <td>/wiki/21_Grams</td>\n",
       "      <td>60400000</td>\n",
       "      <td>124</td>\n",
       "      <td>0</td>\n",
       "      <td>4</td>\n",
       "      <td>1</td>\n",
       "      <td>4</td>\n",
       "      <td>NaN</td>\n",
       "      <td>NaN</td>\n",
       "    </tr>\n",
       "    <tr>\n",
       "      <th>6</th>\n",
       "      <td>/wiki/42nd_Street_(film)</td>\n",
       "      <td>2250000</td>\n",
       "      <td>89</td>\n",
       "      <td>1</td>\n",
       "      <td>4</td>\n",
       "      <td>1</td>\n",
       "      <td>1</td>\n",
       "      <td>1932</td>\n",
       "      <td>0</td>\n",
       "    </tr>\n",
       "    <tr>\n",
       "      <th>7</th>\n",
       "      <td>/wiki/45_Years</td>\n",
       "      <td>9300000</td>\n",
       "      <td>95</td>\n",
       "      <td>1</td>\n",
       "      <td>2</td>\n",
       "      <td>1</td>\n",
       "      <td>1</td>\n",
       "      <td>NaN</td>\n",
       "      <td>NaN</td>\n",
       "    </tr>\n",
       "    <tr>\n",
       "      <th>8</th>\n",
       "      <td>/wiki/49th_Parallel_(film)</td>\n",
       "      <td>5000000</td>\n",
       "      <td>123</td>\n",
       "      <td>0</td>\n",
       "      <td>5</td>\n",
       "      <td>1</td>\n",
       "      <td>4</td>\n",
       "      <td>1942</td>\n",
       "      <td>0</td>\n",
       "    </tr>\n",
       "    <tr>\n",
       "      <th>9</th>\n",
       "      <td>/wiki/5_Fingers</td>\n",
       "      <td>1350000</td>\n",
       "      <td>108</td>\n",
       "      <td>1</td>\n",
       "      <td>3</td>\n",
       "      <td>1</td>\n",
       "      <td>1</td>\n",
       "      <td>NaN</td>\n",
       "      <td>NaN</td>\n",
       "    </tr>\n",
       "    <tr>\n",
       "      <th>10</th>\n",
       "      <td>/wiki/7th_Heaven_(1927_film)</td>\n",
       "      <td>2500000</td>\n",
       "      <td>110</td>\n",
       "      <td>1</td>\n",
       "      <td>3</td>\n",
       "      <td>1</td>\n",
       "      <td>2</td>\n",
       "      <td>NaN</td>\n",
       "      <td>NaN</td>\n",
       "    </tr>\n",
       "    <tr>\n",
       "      <th>11</th>\n",
       "      <td>/wiki/7th_Heaven_(1927_film)</td>\n",
       "      <td>2500000</td>\n",
       "      <td>110</td>\n",
       "      <td>1</td>\n",
       "      <td>3</td>\n",
       "      <td>1</td>\n",
       "      <td>2</td>\n",
       "      <td>NaN</td>\n",
       "      <td>NaN</td>\n",
       "    </tr>\n",
       "    <tr>\n",
       "      <th>12</th>\n",
       "      <td>/wiki/7th_Heaven_(1927_film)</td>\n",
       "      <td>2500000</td>\n",
       "      <td>110</td>\n",
       "      <td>1</td>\n",
       "      <td>3</td>\n",
       "      <td>1</td>\n",
       "      <td>2</td>\n",
       "      <td>NaN</td>\n",
       "      <td>NaN</td>\n",
       "    </tr>\n",
       "    <tr>\n",
       "      <th>13</th>\n",
       "      <td>/wiki/7th_Heaven_(1927_film)</td>\n",
       "      <td>2500000</td>\n",
       "      <td>110</td>\n",
       "      <td>1</td>\n",
       "      <td>3</td>\n",
       "      <td>1</td>\n",
       "      <td>2</td>\n",
       "      <td>NaN</td>\n",
       "      <td>NaN</td>\n",
       "    </tr>\n",
       "    <tr>\n",
       "      <th>14</th>\n",
       "      <td>/wiki/A_Beautiful_Mind_(film)</td>\n",
       "      <td>313600000</td>\n",
       "      <td>135</td>\n",
       "      <td>1</td>\n",
       "      <td>9</td>\n",
       "      <td>1</td>\n",
       "      <td>4</td>\n",
       "      <td>2001</td>\n",
       "      <td>1</td>\n",
       "    </tr>\n",
       "    <tr>\n",
       "      <th>15</th>\n",
       "      <td>/wiki/A_Civil_Action_(film)</td>\n",
       "      <td>112215759</td>\n",
       "      <td>115</td>\n",
       "      <td>1</td>\n",
       "      <td>9</td>\n",
       "      <td>1</td>\n",
       "      <td>4</td>\n",
       "      <td>NaN</td>\n",
       "      <td>NaN</td>\n",
       "    </tr>\n",
       "    <tr>\n",
       "      <th>16</th>\n",
       "      <td>/wiki/A_Clockwork_Orange_(film)</td>\n",
       "      <td>26600000</td>\n",
       "      <td>136</td>\n",
       "      <td>1</td>\n",
       "      <td>4</td>\n",
       "      <td>2</td>\n",
       "      <td>4</td>\n",
       "      <td>1971</td>\n",
       "      <td>0</td>\n",
       "    </tr>\n",
       "    <tr>\n",
       "      <th>17</th>\n",
       "      <td>/wiki/A_Double_Life</td>\n",
       "      <td>1700000</td>\n",
       "      <td>104</td>\n",
       "      <td>0</td>\n",
       "      <td>3</td>\n",
       "      <td>1</td>\n",
       "      <td>4</td>\n",
       "      <td>NaN</td>\n",
       "      <td>NaN</td>\n",
       "    </tr>\n",
       "    <tr>\n",
       "      <th>18</th>\n",
       "      <td>/wiki/A_Dry_White_Season</td>\n",
       "      <td>3766879</td>\n",
       "      <td>97</td>\n",
       "      <td>1</td>\n",
       "      <td>6</td>\n",
       "      <td>1</td>\n",
       "      <td>3</td>\n",
       "      <td>NaN</td>\n",
       "      <td>NaN</td>\n",
       "    </tr>\n",
       "    <tr>\n",
       "      <th>19</th>\n",
       "      <td>/wiki/A_Farewell_to_Arms_(1957_film)</td>\n",
       "      <td>20000000</td>\n",
       "      <td>152</td>\n",
       "      <td>1</td>\n",
       "      <td>3</td>\n",
       "      <td>1</td>\n",
       "      <td>4</td>\n",
       "      <td>NaN</td>\n",
       "      <td>NaN</td>\n",
       "    </tr>\n",
       "    <tr>\n",
       "      <th>20</th>\n",
       "      <td>/wiki/A_Few_Good_Men</td>\n",
       "      <td>243200000</td>\n",
       "      <td>138</td>\n",
       "      <td>1</td>\n",
       "      <td>8</td>\n",
       "      <td>1</td>\n",
       "      <td>4</td>\n",
       "      <td>1992</td>\n",
       "      <td>0</td>\n",
       "    </tr>\n",
       "    <tr>\n",
       "      <th>21</th>\n",
       "      <td>/wiki/A_Fish_Called_Wanda</td>\n",
       "      <td>62493712</td>\n",
       "      <td>109</td>\n",
       "      <td>0</td>\n",
       "      <td>4</td>\n",
       "      <td>2</td>\n",
       "      <td>3</td>\n",
       "      <td>NaN</td>\n",
       "      <td>NaN</td>\n",
       "    </tr>\n",
       "    <tr>\n",
       "      <th>22</th>\n",
       "      <td>/wiki/A_Free_Soul</td>\n",
       "      <td>1422000</td>\n",
       "      <td>91</td>\n",
       "      <td>0</td>\n",
       "      <td>4</td>\n",
       "      <td>1</td>\n",
       "      <td>2</td>\n",
       "      <td>NaN</td>\n",
       "      <td>NaN</td>\n",
       "    </tr>\n",
       "    <tr>\n",
       "      <th>23</th>\n",
       "      <td>/wiki/A_Hatful_of_Rain</td>\n",
       "      <td>1500000</td>\n",
       "      <td>109</td>\n",
       "      <td>1</td>\n",
       "      <td>4</td>\n",
       "      <td>1</td>\n",
       "      <td>3</td>\n",
       "      <td>NaN</td>\n",
       "      <td>NaN</td>\n",
       "    </tr>\n",
       "    <tr>\n",
       "      <th>24</th>\n",
       "      <td>/wiki/A_History_of_Violence</td>\n",
       "      <td>60700000</td>\n",
       "      <td>96</td>\n",
       "      <td>1</td>\n",
       "      <td>5</td>\n",
       "      <td>1</td>\n",
       "      <td>2</td>\n",
       "      <td>NaN</td>\n",
       "      <td>NaN</td>\n",
       "    </tr>\n",
       "    <tr>\n",
       "      <th>25</th>\n",
       "      <td>/wiki/A_Man_and_a_Woman</td>\n",
       "      <td>14000000</td>\n",
       "      <td>102</td>\n",
       "      <td>0</td>\n",
       "      <td>2</td>\n",
       "      <td>1</td>\n",
       "      <td>3</td>\n",
       "      <td>NaN</td>\n",
       "      <td>NaN</td>\n",
       "    </tr>\n",
       "    <tr>\n",
       "      <th>26</th>\n",
       "      <td>/wiki/A_Man_for_All_Seasons_(1966_film)</td>\n",
       "      <td>28400000</td>\n",
       "      <td>120</td>\n",
       "      <td>1</td>\n",
       "      <td>6</td>\n",
       "      <td>1</td>\n",
       "      <td>4</td>\n",
       "      <td>1966</td>\n",
       "      <td>1</td>\n",
       "    </tr>\n",
       "    <tr>\n",
       "      <th>27</th>\n",
       "      <td>/wiki/A_Midsummer_Night%27s_Dream_(1935_film)</td>\n",
       "      <td>1229000</td>\n",
       "      <td>133</td>\n",
       "      <td>1</td>\n",
       "      <td>7</td>\n",
       "      <td>1</td>\n",
       "      <td>4</td>\n",
       "      <td>1935</td>\n",
       "      <td>0</td>\n",
       "    </tr>\n",
       "    <tr>\n",
       "      <th>28</th>\n",
       "      <td>/wiki/A_Passage_to_India_(film)</td>\n",
       "      <td>27200000</td>\n",
       "      <td>163</td>\n",
       "      <td>1</td>\n",
       "      <td>6</td>\n",
       "      <td>2</td>\n",
       "      <td>4</td>\n",
       "      <td>1984</td>\n",
       "      <td>0</td>\n",
       "    </tr>\n",
       "    <tr>\n",
       "      <th>29</th>\n",
       "      <td>/wiki/A_Patch_of_Blue</td>\n",
       "      <td>6750000</td>\n",
       "      <td>105</td>\n",
       "      <td>1</td>\n",
       "      <td>3</td>\n",
       "      <td>1</td>\n",
       "      <td>4</td>\n",
       "      <td>NaN</td>\n",
       "      <td>NaN</td>\n",
       "    </tr>\n",
       "    <tr>\n",
       "      <th>...</th>\n",
       "      <td>...</td>\n",
       "      <td>...</td>\n",
       "      <td>...</td>\n",
       "      <td>...</td>\n",
       "      <td>...</td>\n",
       "      <td>...</td>\n",
       "      <td>...</td>\n",
       "      <td>...</td>\n",
       "      <td>...</td>\n",
       "    </tr>\n",
       "    <tr>\n",
       "      <th>1244</th>\n",
       "      <td>/wiki/The_Roman_Spring_of_Mrs._Stone</td>\n",
       "      <td>0</td>\n",
       "      <td>103</td>\n",
       "      <td>0</td>\n",
       "      <td>5</td>\n",
       "      <td>1</td>\n",
       "      <td>4</td>\n",
       "      <td>NaN</td>\n",
       "      <td>NaN</td>\n",
       "    </tr>\n",
       "    <tr>\n",
       "      <th>1245</th>\n",
       "      <td>/wiki/The_Ruling_Class_(film)</td>\n",
       "      <td>0</td>\n",
       "      <td>154</td>\n",
       "      <td>0</td>\n",
       "      <td>4</td>\n",
       "      <td>0</td>\n",
       "      <td>3</td>\n",
       "      <td>NaN</td>\n",
       "      <td>NaN</td>\n",
       "    </tr>\n",
       "    <tr>\n",
       "      <th>1246</th>\n",
       "      <td>/wiki/The_Search</td>\n",
       "      <td>0</td>\n",
       "      <td>105</td>\n",
       "      <td>0</td>\n",
       "      <td>5</td>\n",
       "      <td>2</td>\n",
       "      <td>1</td>\n",
       "      <td>NaN</td>\n",
       "      <td>NaN</td>\n",
       "    </tr>\n",
       "    <tr>\n",
       "      <th>1247</th>\n",
       "      <td>/wiki/The_Sin_of_Madelon_Claudet</td>\n",
       "      <td>0</td>\n",
       "      <td>75</td>\n",
       "      <td>1</td>\n",
       "      <td>4</td>\n",
       "      <td>1</td>\n",
       "      <td>4</td>\n",
       "      <td>NaN</td>\n",
       "      <td>NaN</td>\n",
       "    </tr>\n",
       "    <tr>\n",
       "      <th>1248</th>\n",
       "      <td>/wiki/The_Smiling_Lieutenant</td>\n",
       "      <td>0</td>\n",
       "      <td>89</td>\n",
       "      <td>1</td>\n",
       "      <td>3</td>\n",
       "      <td>1</td>\n",
       "      <td>3</td>\n",
       "      <td>1931</td>\n",
       "      <td>0</td>\n",
       "    </tr>\n",
       "    <tr>\n",
       "      <th>1249</th>\n",
       "      <td>/wiki/The_Story_of_G.I._Joe</td>\n",
       "      <td>0</td>\n",
       "      <td>108</td>\n",
       "      <td>0</td>\n",
       "      <td>2</td>\n",
       "      <td>1</td>\n",
       "      <td>2</td>\n",
       "      <td>NaN</td>\n",
       "      <td>NaN</td>\n",
       "    </tr>\n",
       "    <tr>\n",
       "      <th>1250</th>\n",
       "      <td>/wiki/The_Story_of_Louis_Pasteur</td>\n",
       "      <td>0</td>\n",
       "      <td>87</td>\n",
       "      <td>0</td>\n",
       "      <td>4</td>\n",
       "      <td>1</td>\n",
       "      <td>1</td>\n",
       "      <td>1936</td>\n",
       "      <td>0</td>\n",
       "    </tr>\n",
       "    <tr>\n",
       "      <th>1251</th>\n",
       "      <td>/wiki/The_Sunshine_Boys_(1975_film)</td>\n",
       "      <td>0</td>\n",
       "      <td>111</td>\n",
       "      <td>1</td>\n",
       "      <td>4</td>\n",
       "      <td>1</td>\n",
       "      <td>4</td>\n",
       "      <td>NaN</td>\n",
       "      <td>NaN</td>\n",
       "    </tr>\n",
       "    <tr>\n",
       "      <th>1252</th>\n",
       "      <td>/wiki/The_Trespasser</td>\n",
       "      <td>0</td>\n",
       "      <td>90</td>\n",
       "      <td>0</td>\n",
       "      <td>2</td>\n",
       "      <td>1</td>\n",
       "      <td>4</td>\n",
       "      <td>NaN</td>\n",
       "      <td>NaN</td>\n",
       "    </tr>\n",
       "    <tr>\n",
       "      <th>1253</th>\n",
       "      <td>/wiki/The_Westerner_(film)</td>\n",
       "      <td>0</td>\n",
       "      <td>100</td>\n",
       "      <td>0</td>\n",
       "      <td>4</td>\n",
       "      <td>1</td>\n",
       "      <td>3</td>\n",
       "      <td>NaN</td>\n",
       "      <td>NaN</td>\n",
       "    </tr>\n",
       "    <tr>\n",
       "      <th>1254</th>\n",
       "      <td>/wiki/The_Whales_of_August</td>\n",
       "      <td>0</td>\n",
       "      <td>90</td>\n",
       "      <td>0</td>\n",
       "      <td>4</td>\n",
       "      <td>1</td>\n",
       "      <td>4</td>\n",
       "      <td>NaN</td>\n",
       "      <td>NaN</td>\n",
       "    </tr>\n",
       "    <tr>\n",
       "      <th>1255</th>\n",
       "      <td>/wiki/The_Whisperers</td>\n",
       "      <td>0</td>\n",
       "      <td>105</td>\n",
       "      <td>0</td>\n",
       "      <td>1</td>\n",
       "      <td>1</td>\n",
       "      <td>3</td>\n",
       "      <td>NaN</td>\n",
       "      <td>NaN</td>\n",
       "    </tr>\n",
       "    <tr>\n",
       "      <th>1256</th>\n",
       "      <td>/wiki/The_White_Parade</td>\n",
       "      <td>0</td>\n",
       "      <td>80</td>\n",
       "      <td>0</td>\n",
       "      <td>2</td>\n",
       "      <td>1</td>\n",
       "      <td>4</td>\n",
       "      <td>1934</td>\n",
       "      <td>0</td>\n",
       "    </tr>\n",
       "    <tr>\n",
       "      <th>1257</th>\n",
       "      <td>/wiki/Their_Own_Desire</td>\n",
       "      <td>0</td>\n",
       "      <td>65</td>\n",
       "      <td>1</td>\n",
       "      <td>5</td>\n",
       "      <td>1</td>\n",
       "      <td>4</td>\n",
       "      <td>NaN</td>\n",
       "      <td>NaN</td>\n",
       "    </tr>\n",
       "    <tr>\n",
       "      <th>1258</th>\n",
       "      <td>/wiki/Theodora_Goes_Wild</td>\n",
       "      <td>0</td>\n",
       "      <td>94</td>\n",
       "      <td>0</td>\n",
       "      <td>2</td>\n",
       "      <td>1</td>\n",
       "      <td>4</td>\n",
       "      <td>NaN</td>\n",
       "      <td>NaN</td>\n",
       "    </tr>\n",
       "    <tr>\n",
       "      <th>1259</th>\n",
       "      <td>/wiki/These_Three</td>\n",
       "      <td>0</td>\n",
       "      <td>93</td>\n",
       "      <td>0</td>\n",
       "      <td>4</td>\n",
       "      <td>1</td>\n",
       "      <td>1</td>\n",
       "      <td>NaN</td>\n",
       "      <td>NaN</td>\n",
       "    </tr>\n",
       "    <tr>\n",
       "      <th>1260</th>\n",
       "      <td>/wiki/This_Sporting_Life</td>\n",
       "      <td>0</td>\n",
       "      <td>134</td>\n",
       "      <td>0</td>\n",
       "      <td>4</td>\n",
       "      <td>1</td>\n",
       "      <td>1</td>\n",
       "      <td>NaN</td>\n",
       "      <td>NaN</td>\n",
       "    </tr>\n",
       "    <tr>\n",
       "      <th>1261</th>\n",
       "      <td>/wiki/Three_Smart_Girls</td>\n",
       "      <td>0</td>\n",
       "      <td>84</td>\n",
       "      <td>0</td>\n",
       "      <td>4</td>\n",
       "      <td>1</td>\n",
       "      <td>4</td>\n",
       "      <td>1936</td>\n",
       "      <td>0</td>\n",
       "    </tr>\n",
       "    <tr>\n",
       "      <th>1262</th>\n",
       "      <td>/wiki/Thunderbolt_(1929_film)</td>\n",
       "      <td>0</td>\n",
       "      <td>85</td>\n",
       "      <td>0</td>\n",
       "      <td>5</td>\n",
       "      <td>1</td>\n",
       "      <td>3</td>\n",
       "      <td>NaN</td>\n",
       "      <td>NaN</td>\n",
       "    </tr>\n",
       "    <tr>\n",
       "      <th>1263</th>\n",
       "      <td>/wiki/Topper_(film)</td>\n",
       "      <td>0</td>\n",
       "      <td>97</td>\n",
       "      <td>1</td>\n",
       "      <td>2</td>\n",
       "      <td>1</td>\n",
       "      <td>3</td>\n",
       "      <td>NaN</td>\n",
       "      <td>NaN</td>\n",
       "    </tr>\n",
       "    <tr>\n",
       "      <th>1264</th>\n",
       "      <td>/wiki/Trader_Horn_(1931_film)</td>\n",
       "      <td>0</td>\n",
       "      <td>122</td>\n",
       "      <td>1</td>\n",
       "      <td>3</td>\n",
       "      <td>1</td>\n",
       "      <td>2</td>\n",
       "      <td>1930</td>\n",
       "      <td>0</td>\n",
       "    </tr>\n",
       "    <tr>\n",
       "      <th>1265</th>\n",
       "      <td>/wiki/Twilight_of_Honor</td>\n",
       "      <td>0</td>\n",
       "      <td>104</td>\n",
       "      <td>0</td>\n",
       "      <td>2</td>\n",
       "      <td>1</td>\n",
       "      <td>4</td>\n",
       "      <td>NaN</td>\n",
       "      <td>NaN</td>\n",
       "    </tr>\n",
       "    <tr>\n",
       "      <th>1266</th>\n",
       "      <td>/wiki/Two_Arabian_Knights</td>\n",
       "      <td>0</td>\n",
       "      <td>92</td>\n",
       "      <td>0</td>\n",
       "      <td>3</td>\n",
       "      <td>1</td>\n",
       "      <td>3</td>\n",
       "      <td>NaN</td>\n",
       "      <td>NaN</td>\n",
       "    </tr>\n",
       "    <tr>\n",
       "      <th>1267</th>\n",
       "      <td>/wiki/Valiant_Is_the_Word_for_Carrie</td>\n",
       "      <td>0</td>\n",
       "      <td>110</td>\n",
       "      <td>0</td>\n",
       "      <td>3</td>\n",
       "      <td>1</td>\n",
       "      <td>4</td>\n",
       "      <td>NaN</td>\n",
       "      <td>NaN</td>\n",
       "    </tr>\n",
       "    <tr>\n",
       "      <th>1268</th>\n",
       "      <td>/wiki/Voyage_of_the_Damned</td>\n",
       "      <td>0</td>\n",
       "      <td>155</td>\n",
       "      <td>1</td>\n",
       "      <td>6</td>\n",
       "      <td>1</td>\n",
       "      <td>4</td>\n",
       "      <td>NaN</td>\n",
       "      <td>NaN</td>\n",
       "    </tr>\n",
       "    <tr>\n",
       "      <th>1269</th>\n",
       "      <td>/wiki/White_Banners</td>\n",
       "      <td>0</td>\n",
       "      <td>92</td>\n",
       "      <td>0</td>\n",
       "      <td>6</td>\n",
       "      <td>1</td>\n",
       "      <td>2</td>\n",
       "      <td>NaN</td>\n",
       "      <td>NaN</td>\n",
       "    </tr>\n",
       "    <tr>\n",
       "      <th>1270</th>\n",
       "      <td>/wiki/Who_Is_Harry_Kellerman_and_Why_Is_He_Say...</td>\n",
       "      <td>0</td>\n",
       "      <td>108</td>\n",
       "      <td>0</td>\n",
       "      <td>6</td>\n",
       "      <td>1</td>\n",
       "      <td>2</td>\n",
       "      <td>NaN</td>\n",
       "      <td>NaN</td>\n",
       "    </tr>\n",
       "    <tr>\n",
       "      <th>1271</th>\n",
       "      <td>/wiki/Wild_Is_the_Wind</td>\n",
       "      <td>0</td>\n",
       "      <td>114</td>\n",
       "      <td>0</td>\n",
       "      <td>2</td>\n",
       "      <td>1</td>\n",
       "      <td>4</td>\n",
       "      <td>NaN</td>\n",
       "      <td>NaN</td>\n",
       "    </tr>\n",
       "    <tr>\n",
       "      <th>1272</th>\n",
       "      <td>/wiki/Wings_(1927_film)</td>\n",
       "      <td>0</td>\n",
       "      <td>111</td>\n",
       "      <td>0</td>\n",
       "      <td>4</td>\n",
       "      <td>1</td>\n",
       "      <td>3</td>\n",
       "      <td>1927</td>\n",
       "      <td>1</td>\n",
       "    </tr>\n",
       "    <tr>\n",
       "      <th>1273</th>\n",
       "      <td>/wiki/You%27re_a_Big_Boy_Now</td>\n",
       "      <td>0</td>\n",
       "      <td>97</td>\n",
       "      <td>1</td>\n",
       "      <td>10</td>\n",
       "      <td>1</td>\n",
       "      <td>4</td>\n",
       "      <td>NaN</td>\n",
       "      <td>NaN</td>\n",
       "    </tr>\n",
       "  </tbody>\n",
       "</table>\n",
       "<p>1274 rows × 9 columns</p>\n",
       "</div>"
      ],
      "text/plain": [
       "                                         wiki_slug_film    revenue  minutes  \\\n",
       "0                                       /wiki/127_Hours   60700000       93   \n",
       "1                        /wiki/12_Angry_Men_(1957_film)    1000000       96   \n",
       "2                                      /wiki/12_Monkeys  168800000      129   \n",
       "3                         /wiki/12_Years_a_Slave_(film)  187700000      134   \n",
       "4                    /wiki/2001:_A_Space_Odyssey_(film)  190000000      161   \n",
       "5                                        /wiki/21_Grams   60400000      124   \n",
       "6                              /wiki/42nd_Street_(film)    2250000       89   \n",
       "7                                        /wiki/45_Years    9300000       95   \n",
       "8                            /wiki/49th_Parallel_(film)    5000000      123   \n",
       "9                                       /wiki/5_Fingers    1350000      108   \n",
       "10                         /wiki/7th_Heaven_(1927_film)    2500000      110   \n",
       "11                         /wiki/7th_Heaven_(1927_film)    2500000      110   \n",
       "12                         /wiki/7th_Heaven_(1927_film)    2500000      110   \n",
       "13                         /wiki/7th_Heaven_(1927_film)    2500000      110   \n",
       "14                        /wiki/A_Beautiful_Mind_(film)  313600000      135   \n",
       "15                          /wiki/A_Civil_Action_(film)  112215759      115   \n",
       "16                      /wiki/A_Clockwork_Orange_(film)   26600000      136   \n",
       "17                                  /wiki/A_Double_Life    1700000      104   \n",
       "18                             /wiki/A_Dry_White_Season    3766879       97   \n",
       "19                 /wiki/A_Farewell_to_Arms_(1957_film)   20000000      152   \n",
       "20                                 /wiki/A_Few_Good_Men  243200000      138   \n",
       "21                            /wiki/A_Fish_Called_Wanda   62493712      109   \n",
       "22                                    /wiki/A_Free_Soul    1422000       91   \n",
       "23                               /wiki/A_Hatful_of_Rain    1500000      109   \n",
       "24                          /wiki/A_History_of_Violence   60700000       96   \n",
       "25                              /wiki/A_Man_and_a_Woman   14000000      102   \n",
       "26              /wiki/A_Man_for_All_Seasons_(1966_film)   28400000      120   \n",
       "27        /wiki/A_Midsummer_Night%27s_Dream_(1935_film)    1229000      133   \n",
       "28                      /wiki/A_Passage_to_India_(film)   27200000      163   \n",
       "29                                /wiki/A_Patch_of_Blue    6750000      105   \n",
       "...                                                 ...        ...      ...   \n",
       "1244               /wiki/The_Roman_Spring_of_Mrs._Stone          0      103   \n",
       "1245                      /wiki/The_Ruling_Class_(film)          0      154   \n",
       "1246                                   /wiki/The_Search          0      105   \n",
       "1247                   /wiki/The_Sin_of_Madelon_Claudet          0       75   \n",
       "1248                       /wiki/The_Smiling_Lieutenant          0       89   \n",
       "1249                        /wiki/The_Story_of_G.I._Joe          0      108   \n",
       "1250                   /wiki/The_Story_of_Louis_Pasteur          0       87   \n",
       "1251                /wiki/The_Sunshine_Boys_(1975_film)          0      111   \n",
       "1252                               /wiki/The_Trespasser          0       90   \n",
       "1253                         /wiki/The_Westerner_(film)          0      100   \n",
       "1254                         /wiki/The_Whales_of_August          0       90   \n",
       "1255                               /wiki/The_Whisperers          0      105   \n",
       "1256                             /wiki/The_White_Parade          0       80   \n",
       "1257                             /wiki/Their_Own_Desire          0       65   \n",
       "1258                           /wiki/Theodora_Goes_Wild          0       94   \n",
       "1259                                  /wiki/These_Three          0       93   \n",
       "1260                           /wiki/This_Sporting_Life          0      134   \n",
       "1261                            /wiki/Three_Smart_Girls          0       84   \n",
       "1262                      /wiki/Thunderbolt_(1929_film)          0       85   \n",
       "1263                                /wiki/Topper_(film)          0       97   \n",
       "1264                      /wiki/Trader_Horn_(1931_film)          0      122   \n",
       "1265                            /wiki/Twilight_of_Honor          0      104   \n",
       "1266                          /wiki/Two_Arabian_Knights          0       92   \n",
       "1267               /wiki/Valiant_Is_the_Word_for_Carrie          0      110   \n",
       "1268                         /wiki/Voyage_of_the_Damned          0      155   \n",
       "1269                                /wiki/White_Banners          0       92   \n",
       "1270  /wiki/Who_Is_Harry_Kellerman_and_Why_Is_He_Say...          0      108   \n",
       "1271                             /wiki/Wild_Is_the_Wind          0      114   \n",
       "1272                            /wiki/Wings_(1927_film)          0      111   \n",
       "1273                       /wiki/You%27re_a_Big_Boy_Now          0       97   \n",
       "\n",
       "      based_on  n_starring  n_countries  release_quarter  year  winner  \n",
       "0            1           3            2                3  2010       0  \n",
       "1            0          12            1                2  1957       0  \n",
       "2            1           5            1                4   NaN     NaN  \n",
       "3            1           9            2                3  2013       1  \n",
       "4            0           2            2                2   NaN     NaN  \n",
       "5            0           4            1                4   NaN     NaN  \n",
       "6            1           4            1                1  1932       0  \n",
       "7            1           2            1                1   NaN     NaN  \n",
       "8            0           5            1                4  1942       0  \n",
       "9            1           3            1                1   NaN     NaN  \n",
       "10           1           3            1                2   NaN     NaN  \n",
       "11           1           3            1                2   NaN     NaN  \n",
       "12           1           3            1                2   NaN     NaN  \n",
       "13           1           3            1                2   NaN     NaN  \n",
       "14           1           9            1                4  2001       1  \n",
       "15           1           9            1                4   NaN     NaN  \n",
       "16           1           4            2                4  1971       0  \n",
       "17           0           3            1                4   NaN     NaN  \n",
       "18           1           6            1                3   NaN     NaN  \n",
       "19           1           3            1                4   NaN     NaN  \n",
       "20           1           8            1                4  1992       0  \n",
       "21           0           4            2                3   NaN     NaN  \n",
       "22           0           4            1                2   NaN     NaN  \n",
       "23           1           4            1                3   NaN     NaN  \n",
       "24           1           5            1                2   NaN     NaN  \n",
       "25           0           2            1                3   NaN     NaN  \n",
       "26           1           6            1                4  1966       1  \n",
       "27           1           7            1                4  1935       0  \n",
       "28           1           6            2                4  1984       0  \n",
       "29           1           3            1                4   NaN     NaN  \n",
       "...        ...         ...          ...              ...   ...     ...  \n",
       "1244         0           5            1                4   NaN     NaN  \n",
       "1245         0           4            0                3   NaN     NaN  \n",
       "1246         0           5            2                1   NaN     NaN  \n",
       "1247         1           4            1                4   NaN     NaN  \n",
       "1248         1           3            1                3  1931       0  \n",
       "1249         0           2            1                2   NaN     NaN  \n",
       "1250         0           4            1                1  1936       0  \n",
       "1251         1           4            1                4   NaN     NaN  \n",
       "1252         0           2            1                4   NaN     NaN  \n",
       "1253         0           4            1                3   NaN     NaN  \n",
       "1254         0           4            1                4   NaN     NaN  \n",
       "1255         0           1            1                3   NaN     NaN  \n",
       "1256         0           2            1                4  1934       0  \n",
       "1257         1           5            1                4   NaN     NaN  \n",
       "1258         0           2            1                4   NaN     NaN  \n",
       "1259         0           4            1                1   NaN     NaN  \n",
       "1260         0           4            1                1   NaN     NaN  \n",
       "1261         0           4            1                4  1936       0  \n",
       "1262         0           5            1                3   NaN     NaN  \n",
       "1263         1           2            1                3   NaN     NaN  \n",
       "1264         1           3            1                2  1930       0  \n",
       "1265         0           2            1                4   NaN     NaN  \n",
       "1266         0           3            1                3   NaN     NaN  \n",
       "1267         0           3            1                4   NaN     NaN  \n",
       "1268         1           6            1                4   NaN     NaN  \n",
       "1269         0           6            1                2   NaN     NaN  \n",
       "1270         0           6            1                2   NaN     NaN  \n",
       "1271         0           2            1                4   NaN     NaN  \n",
       "1272         0           4            1                3  1927       1  \n",
       "1273         1          10            1                4   NaN     NaN  \n",
       "\n",
       "[1274 rows x 9 columns]"
      ]
     },
     "execution_count": 43,
     "metadata": {},
     "output_type": "execute_result"
    }
   ],
   "source": [
    "pd.merge(films, nominees_film[['wiki_slug_film', 'year', 'winner']], on='wiki_slug_film', how='left')"
   ]
  },
  {
   "cell_type": "code",
   "execution_count": null,
   "metadata": {
    "collapsed": true
   },
   "outputs": [],
   "source": []
  }
 ],
 "metadata": {
  "kernelspec": {
   "display_name": "Python 3",
   "language": "python",
   "name": "python3"
  },
  "language_info": {
   "codemirror_mode": {
    "name": "ipython",
    "version": 3
   },
   "file_extension": ".py",
   "mimetype": "text/x-python",
   "name": "python",
   "nbconvert_exporter": "python",
   "pygments_lexer": "ipython3",
   "version": "3.5.1"
  }
 },
 "nbformat": 4,
 "nbformat_minor": 0
}
